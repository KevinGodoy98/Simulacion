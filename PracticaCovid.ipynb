{
  "nbformat": 4,
  "nbformat_minor": 0,
  "metadata": {
    "colab": {
      "name": "PracticaCovid.ipynb",
      "provenance": [],
      "collapsed_sections": []
    },
    "kernelspec": {
      "name": "python3",
      "display_name": "Python 3"
    },
    "language_info": {
      "name": "python"
    }
  },
  "cells": [
    {
      "cell_type": "markdown",
      "source": [
        "## Practica.\n",
        "\n",
        "Realizar la planificación y modelado de una simulacion basado en eventos discretos para identificar los contagios dentro de un establecimiento de estudiantes post COVID-19 para el reingreso de clases. Los pasos para el regreso progresivo a clases se describe a continuación:\n",
        "\n",
        "            ▪ Calcular e Identificar el aforo máximo permitido en la institución educativa.\n",
        "            ▪ Identificar el número de estudiantes y el porcentaje de contagio dentro del contexto poblacional el mismo que se aplicara dentro de la simulación por el contagio.\n",
        "            ▪ Generar la simulación desde la puerta de ingreso y la salida del plantel por día.\n",
        "            ▪ Los estudiantes hacen fila para ingresar al establecimiento y no pueden superar el aforo permitido.\n",
        "            ▪ Realizar con un tiempo de un 1 mes.\n",
        "         \n",
        "Generar graficas que indiquen los estudiantes que presentaron complicaciones y el total de estudiantes por establecimiento en cada día o semana.\n",
        "\n",
        "**Nota**: No tomar datos de transporte, numero de aulas, personal docente, etc. Solo se el ingreso, salida y el contagio dentro del establecimiento.\n"
      ],
      "metadata": {
        "id": "4DX6tbm9s88w"
      }
    },
    {
      "cell_type": "code",
      "source": [
        "pip install simpy"
      ],
      "metadata": {
        "colab": {
          "base_uri": "https://localhost:8080/"
        },
        "id": "7KkxcFb9t1ga",
        "outputId": "ff7345c0-c582-464a-94e7-9ac938c07f0d"
      },
      "execution_count": 2,
      "outputs": [
        {
          "output_type": "stream",
          "name": "stdout",
          "text": [
            "Looking in indexes: https://pypi.org/simple, https://us-python.pkg.dev/colab-wheels/public/simple/\n",
            "Collecting simpy\n",
            "  Downloading simpy-4.0.1-py2.py3-none-any.whl (29 kB)\n",
            "Installing collected packages: simpy\n",
            "Successfully installed simpy-4.0.1\n"
          ]
        }
      ]
    },
    {
      "cell_type": "code",
      "source": [
        "import simpy\n",
        "import random\n",
        "import matplotlib.pyplot as plt\n",
        "from scipy import stats \n",
        "\n",
        "\n",
        "contagio_tasa=0.05\n",
        "cap_max_aforo=300\n",
        "tiempo_horas = 360 * 38 #horas de estudio * dias del mes\n",
        "cont_estadia=0\n",
        "cont_dias=0\n",
        "contagiosxdia={}\n",
        "\n",
        "class Establecimiento_Universidad(object):\n",
        "    \n",
        "    def __init__(self, environment, cap_max_aforo):\n",
        "        self.env=environment\n",
        "        self.cap_max_aforo = simpy.Resource(environment, cap_max_aforo)\n",
        "\n",
        "        \n",
        "    def clases_presenciales(self):\n",
        "        yield self.env.timeout(360) #tiempo en horas(6)\n",
        "    \n",
        "\n",
        "def llegada_estudiantes(env, Establecimiento_Universidad, contagio_tasa , cont_dias):\n",
        "\n",
        "    with Establecimiento_Universidad.cap_max_aforo.request() as cap_max_aforo:\n",
        "\n",
        "        yield cap_max_aforo\n",
        "        cont = 0\n",
        "        yield env.process(Establecimiento_Universidad.clases_presenciales())\n",
        "\n",
        "        if cont_estadia<=0 & cont_estadia<60:\n",
        "\n",
        "            bernoulli = stats.bernoulli(contagio_tasa)\n",
        "            cont=bernoulli.rvs(1)\n",
        "\n",
        "        elif cont_estadia<=60 & cont_estadia<120:\n",
        "\n",
        "            contagio_tasa=+0.1\n",
        "            bernoulli = stats.bernoulli(contagio_tasa)\n",
        "            cont=bernoulli.rvs(1)\n",
        "\n",
        "\n",
        "        elif cont_estadia>=120 & cont_estadia<180:\n",
        "            \n",
        "            contagio_tasa=+0.2\n",
        "            bernoulli = stats.bernoulli(contagio_tasa)\n",
        "            cont=bernoulli.rvs(1)\n",
        "\n",
        "        elif cont_estadia>=180 & cont_estadia<240:\n",
        "\n",
        "            contagio_tasa=+0.3\n",
        "            bernoulli = stats.bernoulli(contagio_tasa)\n",
        "            cont=bernoulli.rvs(1)\n",
        "\n",
        "        elif cont_estadia>=240 & cont_estadia<300:\n",
        "\n",
        "            contagio_tasa=+0.4\n",
        "            bernoulli = stats.bernoulli(contagio_tasa)\n",
        "            cont=bernoulli.rvs(1)\n",
        "\n",
        "        elif cont_estadia>=300 & cont_estadia<360:\n",
        "\n",
        "            contagio_tasa=+0.5\n",
        "            bernoulli = stats.bernoulli(contagio_tasa)\n",
        "            cont=bernoulli.rvs(1)\n",
        "\n",
        "\n",
        "        if cont == 1 :\n",
        "            if cont_dias in contagiosxdia.keys():\n",
        "                contagiosxdia[cont_dias]+=1\n",
        "            else:\n",
        "                contagiosxdia[cont_dias]=1\n",
        "\n",
        "def num_contagios_x_dia(horas, porcentaje):\n",
        "    contadorContagios=0\n",
        "    for i in list(horas.keys()):\n",
        "        bernoulli = stats.bernoulli(porcentaje)\n",
        "        contagios=bernoulli.rvs(horas[i])\n",
        "        \n",
        "        for j in contagios:\n",
        "            if j == 1:\n",
        "                contadorContagios+=1\n",
        "    return contadorContagios\n",
        "\n",
        "def ejecutar_simulacion(env, cap_max_aforo):\n",
        "    \n",
        "    universidad=Establecimiento_Universidad(env, cap_max_aforo)\n",
        "    global contagiosxdia\n",
        "    global cont_dias\n",
        "    global cont_estadia\n",
        "    \n",
        "    while True:\n",
        "        cont_estadia+=1\n",
        "        yield env.timeout(1)\n",
        "        env.process(llegada_estudiantes(env, universidad, contagio_tasa, cont_dias))\n",
        "        \n",
        "        if cont_estadia==360:\n",
        "            cont_dias=cont_dias+1\n",
        "            cont_estadia=0\n",
        "        \n",
        "     \n",
        "env=simpy.Environment()\n",
        "env.process(ejecutar_simulacion(env, cap_max_aforo))\n",
        "env.run(until = tiempo_horas)\n",
        "\n",
        "y =  list(contagiosxdia.keys())\n",
        "x = list(contagiosxdia.values())\n",
        "plt.bar(y, x)\n",
        "plt.title(\"Contagios por dia\")\n",
        "plt.xlabel(\"Dia\")\n",
        "plt.ylabel(\"# Contagios\")\n",
        "plt.show()"
      ],
      "metadata": {
        "colab": {
          "base_uri": "https://localhost:8080/",
          "height": 295
        },
        "id": "44hS08A_ceG4",
        "outputId": "20c175a1-044e-45ef-cb45-2df2514f2fb3"
      },
      "execution_count": 4,
      "outputs": [
        {
          "output_type": "display_data",
          "data": {
            "text/plain": [
              "<Figure size 432x288 with 1 Axes>"
            ],
            "image/png": "[encoded data removed]"
          },
          "metadata": {
            "needs_background": "light"
          }
        }
      ]
    }
  ]
}