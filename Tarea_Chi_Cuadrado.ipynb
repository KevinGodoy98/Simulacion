{
  "nbformat": 4,
  "nbformat_minor": 0,
  "metadata": {
    "colab": {
      "name": "Tarea Chi_Cuadrado.ipynb",
      "provenance": []
    },
    "kernelspec": {
      "name": "python3",
      "display_name": "Python 3"
    },
    "language_info": {
      "name": "python"
    }
  },
  "cells": [
    {
      "cell_type": "code",
      "execution_count": null,
      "metadata": {
        "id": "KSMaQILip6gG"
      },
      "outputs": [],
      "source": [
        "# Importanmos las librerias\n",
        "import random\n",
        "import matplotlib.pyplot as plt\n",
        "import numpy as np\n"
      ]
    },
    {
      "cell_type": "markdown",
      "source": [
        "**Ejercicio en clases:**\n",
        "Calcular, graficar y obtener el valor de Chi Cuadrado para los siguientes generadores con las siguientes semillas:\n",
        "\n",
        "* Cuadrados medios: Xo=74731897457, D=7\n",
        "* Congruencia lineal: a=74731897457, b=37747318974, Xo=7, M=19\n",
        "* Tauswoth q=7, r=3, l=5\n",
        "* Random de Python semilla (11052022)\n",
        "\n",
        "\n"
      ],
      "metadata": {
        "id": "IcoywtOVp7Iu"
      }
    },
    {
      "cell_type": "code",
      "source": [
        "\n",
        "#Defino una funcion para generar los 100 numeros pseudoaletaroios, \n",
        "#en este caso estoy utilizando la libreria de Python random\n",
        "def random_python(N=100):\n",
        "  numeros = []\n",
        "  random.seed(11052022)\n",
        "  [numeros.append(random.random())for i in range(N)]\n",
        "  return numeros\n",
        "\n",
        "#Defino una funcion para realizar un conteo de los numeros que caen dentro de cada intervalo\n",
        "def calcular_chi(numeros):\n",
        "  tablas = {}\n",
        "  for i in np.arange(0.1, 1.1, 0.1): # aqui separo en intervalos de 0.1\n",
        "    for j in numeros:\n",
        "      if j > i-0.1 and j <= i: # Compruebo si el valor esta dentro del intervalor\n",
        "        tablas[round(i-0.1,1)] = tablas[round(i-0.1,1)]+1 if round(i-0.1,1) in tablas else 1\n",
        "  return tablas\n",
        "#defino una funcion para aplicar la formula y obtener la desviacion estandar de cada intervalo  \n",
        "def sumatoria_chi(tabla, E):\n",
        "  return sum([(valor-E)**2/E for valor in tabla.values()])\n",
        "#Defino una funcion para graficar en un cuadro de barras los valores de cada intervalo\n",
        "def graficar(tabla):\n",
        "  plt.bar(range(len(tabla)), list(tabla.values()), tick_label=list(tabla.keys()))\n",
        "  plt.show()\n",
        "# Listo eso es todo\n",
        "numeros = random_python()\n",
        "print(\"Los 100 numeros aleatorios generados\")\n",
        "print(numeros)\n",
        "print(\"Tabla de intervalos y el conteo de numeros dentro de cada intervalo\")\n",
        "tablas = calcular_chi(numeros)\n",
        "print(tablas)\n",
        "print(\"Calculamos el valor de chi cuadrado\")\n",
        "print(sumatoria_chi(tablas, 10))\n",
        "print(\"Grafica de barras\")\n",
        "graficar(tablas)  \n"
      ],
      "metadata": {
        "colab": {
          "base_uri": "https://localhost:8080/",
          "height": 410
        },
        "id": "ZnHM6c-8qzKS",
        "outputId": "3a032968-d0e8-4507-ecb5-b795b08456e2"
      },
      "execution_count": null,
      "outputs": [
        {
          "output_type": "stream",
          "name": "stdout",
          "text": [
            "Los 100 numeros aleatorios generados\n",
            "[0.39122091339712006, 0.08673940245642964, 0.9233776991044218, 0.5643281259214213, 0.5018754578724773, 0.6092906311578306, 0.7944410154604006, 0.4745506456495402, 0.3496767363331855, 0.08044631797968471, 0.6263578731542199, 0.2036014039706825, 0.32266209276724567, 0.1789720571675194, 0.51299029248829, 0.7770010208223913, 0.5449750015006763, 0.6965377945580097, 0.17325150202955186, 0.9000269906696816, 0.7996854776854797, 0.35322968565101953, 0.6711727475466924, 0.28345737390743064, 0.37350518006964006, 0.37916716408773543, 0.17048123118844705, 0.823379948568777, 0.22300266321497408, 0.051569135814649614, 0.1922950198508785, 0.8634191905130083, 0.5439027360115081, 0.12556216958312505, 0.34124337838965746, 0.6811002910449016, 0.07304203459633685, 0.12499764479557629, 0.2036691179102461, 0.5579574657844889, 0.7421399105045708, 0.5911979676257648, 0.985890474077214, 0.36352070742615483, 0.8983386409438613, 0.045274687387145685, 0.010854410020205485, 0.10747868006965788, 0.7310662267223154, 0.6789110128701332, 0.4681284220423234, 0.7487069922157717, 0.04797854000306567, 0.24710709969259748, 0.04930411236665988, 0.0020391251798350662, 0.07593976703716421, 0.28676974817745593, 0.0046998045473188865, 0.994987409240566, 0.9826228155176063, 0.6053241326585376, 0.5849806144858605, 0.22958414513776948, 0.10777536071052607, 0.5808351957143609, 0.572388670521242, 0.008221646874923993, 0.6896864689831648, 0.12846169495459336, 0.2535791939191787, 0.5478308529147088, 0.27120576132569874, 0.7256050877837473, 0.010751622315348097, 0.9426507923902242, 0.715282633312101, 0.5199730077235968, 0.17428944191844298, 0.8915547498465177, 0.24393711031568588, 0.018682015068336, 0.8427798991994951, 0.015499748889723719, 0.7895388047965864, 0.5450205028827372, 0.2964689443835594, 0.577139092833342, 0.3904078855024612, 0.8461885527273011, 0.2598106883020571, 0.3421468366012045, 0.8909448186747102, 0.16447232820424518, 0.20528958200149916, 0.9877596907709568, 0.27006525861806896, 0.5219510602287093, 0.5592011764902934, 0.5556146311555469]\n",
            "Tabla de intervalos y el conteo de numeros dentro de cada intervalo\n",
            "{0.0: 15, 0.1: 11, 0.2: 14, 0.3: 10, 0.4: 2, 0.5: 17, 0.6: 8, 0.7: 9, 0.8: 7, 0.9: 7}\n",
            "Calculamos el valor de chi cuadrado\n",
            "17.8\n",
            "Grafica de barras\n"
          ]
        },
        {
          "output_type": "display_data",
          "data": {
            "text/plain": [
              "<Figure size 432x288 with 1 Axes>"
            ],
            "image/png": "[encoded data removed]"
          },
          "metadata": {
            "needs_background": "light"
          }
        }
      ]
    },
    {
      "cell_type": "markdown",
      "source": [
        "#Cuadrados medios: Xo=74731897457, D=7\n",
        "\n"
      ],
      "metadata": {
        "id": "a2gSkfxEssO_"
      }
    },
    {
      "cell_type": "code",
      "metadata": {
        "colab": {
          "base_uri": "https://localhost:8080/",
          "height": 446
        },
        "id": "cZr5dJ-Iz5eP",
        "outputId": "8ae98345-f62d-4d26-c22c-9062a86d049a"
      },
      "source": [
        "numero =[]\n",
        "def cuadrados_medios(N=100):\n",
        "  xo = int(input(\"Ingrese la semilla: \"))\n",
        "  digitos = int(input(\"Ingrese el numero de digitos: \"))\n",
        "  #iteraciones = int(input(\"Ingrese el numero de iteraciones: \"))\n",
        "  xn = xo\n",
        "  #print(\"It. \\t Xn \\t Ui \\t Rn\")\n",
        "  for i in range(N):\n",
        "    xnn = xn**2\n",
        "    txnn = str(xnn).zfill(8)\n",
        "    tam = len(txnn)\n",
        "    ui = int(txnn[int(tam/2-digitos/2):int(tam/2+digitos/2)])\n",
        "    rn = ui / (int('9'*digitos)+1)\n",
        "    [numero.append(rn)]\n",
        "    #print(numeros)\n",
        "    #print(str(i) + \"\\t\" + str(xn) + \"\\t\"+ str(ui)+\"\\t\"+str(rn))\n",
        "    xn = ui\n",
        "#Defino una funcion para realizar un conteo de los numeros que caen dentro de cada intervalo\n",
        "def calcular_chi(numeros):\n",
        "  tablas = {}\n",
        "  for i in np.arange(0.1, 1.1, 0.1): # aqui separo en intervalos de 0.1\n",
        "    for j in numeros:\n",
        "      if j > i-0.1 and j <= i: # Compruebo si el valor esta dentro del intervalor\n",
        "        tablas[round(i-0.1,1)] = tablas[round(i-0.1,1)]+1 if round(i-0.1,1) in tablas else 1\n",
        "  return tablas\n",
        "#defino una funcion para aplicar la formula y obtener la desviacion estandar de cada intervalo  \n",
        "def sumatoria_chi(tabla, E):\n",
        "  return sum([(valor - E)**2 / E for valor in tabla.values()])\n",
        "#Defino una funcion para graficar en un cuadro de barras los valores de cada intervalo\n",
        "def graficar(tabla):\n",
        "  plt.bar(range(len(tabla)), list(tabla.values()), tick_label=list(tabla.keys()))\n",
        "  plt.show()\n",
        "# Listo eso es todo    \n",
        "cuadrados_medios()\n",
        "print(\"Los 100 numeros aleatorios generados\")\n",
        "print(numero)\n",
        "print(\"Tabla de intervalos y el conteo de numeros dentro de cada intervalo\")\n",
        "tablas = calcular_chi(numero)\n",
        "print(tablas)\n",
        "print(\"Calculamos el valor de chi cuadrado\")\n",
        "val=sumatoria_chi(tablas,10)\n",
        "print(val)\n",
        "print(\"Grafica de barras\")\n",
        "graficar(tablas)  "
      ],
      "execution_count": null,
      "outputs": [
        {
          "output_type": "stream",
          "name": "stdout",
          "text": [
            "Ingrese la semilla: 74731897457\n",
            "Ingrese el numero de digitos: 7\n",
            "Los 100 numeros aleatorios generados\n",
            "[0.4975235, 0.529633, 0.5111146, 0.2381343, 0.0794483, 0.1203237, 0.7779278, 0.171662, 0.6784224, 0.2569528, 0.2474142, 0.1378636, 0.063722, 0.6049328, 0.9436925, 0.5555345, 0.6185806, 0.6419586, 0.1108441, 0.864145, 0.746581, 0.3831895, 0.8341929, 0.8777944, 0.5230086, 0.5379956, 0.4392656, 0.9542673, 0.6260798, 0.9759159, 0.4118438, 0.6153155, 0.6131645, 0.970704, 0.2662556, 0.9204453, 0.2195502, 0.0229032, 0.455657, 0.6233016, 0.5048845, 0.9083583, 0.1148011, 0.7929256, 0.7310071, 0.3713802, 0.9232529, 0.3959173, 0.7505084, 0.2628584, 0.9453845, 0.7518528, 0.2826328, 0.8129963, 0.9629838, 0.337799, 0.1081644, 0.9953742, 0.769798, 0.5889608, 0.8748239, 0.316856, 0.3977247, 0.1849369, 0.0165698, 0.4558272, 0.7784362, 0.9629174, 0.2099192, 0.6607052, 0.5313613, 0.3448311, 0.9084875, 0.3495376, 0.1765338, 0.6418254, 0.939844, 0.3067443, 0.9206558, 0.607102, 0.5728384, 0.1438325, 0.8778805, 0.6741722, 0.5081552, 0.2217072, 0.5408253, 0.4920051, 0.0690184, 0.6353953, 0.7271872, 0.8012238, 0.9595776, 0.7891704, 0.7899202, 0.9739223, 0.5246464, 0.253845, 0.3728402, 0.0098147]\n",
            "Tabla de intervalos y el conteo de numeros dentro de cada intervalo\n",
            "{0.0: 6, 0.1: 9, 0.2: 10, 0.3: 10, 0.4: 6, 0.5: 12, 0.6: 13, 0.7: 11, 0.8: 7, 0.9: 16}\n",
            "Calculamos el valor de chi cuadrado\n",
            "9.200000000000001\n",
            "Grafica de barras\n"
          ]
        },
        {
          "output_type": "display_data",
          "data": {
            "text/plain": [
              "<Figure size 432x288 with 1 Axes>"
            ],
            "image/png": "[encoded data removed]"
          },
          "metadata": {
            "needs_background": "light"
          }
        }
      ]
    },
    {
      "cell_type": "markdown",
      "source": [
        "#Congruencia lineal: a=74731897457, b=37747318974, Xo=7, M=19"
      ],
      "metadata": {
        "id": "OA0wg57YhRFA"
      }
    },
    {
      "cell_type": "code",
      "source": [
        "numero11 =[]\n",
        "def con_lineal(N=100):\n",
        "  xo = int(input(\"Ingrese la semilla: \"))\n",
        "  a = int(input(\"Ingrese el valor a: \"))\n",
        "  b = int(input(\"Ingrese el valor b: \"))\n",
        "  m = int(input(\"Ingrese el valor m: \"))\n",
        "  xn = xo\n",
        "  #print(\"It. \\t Xn \\t Ui\")\n",
        "  for i in range(N):\n",
        "    xnn = (a*xn+b) % m\n",
        "    ui = xnn/m\n",
        "    [numero11.append(ui)]\n",
        "    #print(str(i) + \"\\t\"+ str(xnn)+\"\\t\"+str(ui))\n",
        "    xn = xnn\n",
        "#Defino una funcion para realizar un conteo de los numeros que caen dentro de cada intervalo\n",
        "def calcular_chi(numeros):\n",
        "  tablas = {}\n",
        "  for i in np.arange(0.1, 1.1, 0.1): # aqui separo en intervalos de 0.1\n",
        "    for j in numeros:\n",
        "      if j > i-0.1 and j <= i: # Compruebo si el valor esta dentro del intervalor\n",
        "        tablas[round(i-0.1,1)] = tablas[round(i-0.1,1)]+1 if round(i-0.1,1) in tablas else 1\n",
        "  return tablas\n",
        "#defino una funcion para aplicar la formula y obtener la desviacion estandar de cada intervalo  \n",
        "def sumatoria_chi(tabla, E):\n",
        "  return sum([(valor - E)**2 / E for valor in tabla.values()])\n",
        "#Defino una funcion para graficar en un cuadro de barras los valores de cada intervalo\n",
        "def graficar(tabla):\n",
        "  plt.bar(range(len(tabla)), list(tabla.values()), tick_label=list(tabla.keys()))\n",
        "  plt.show()\n",
        "# Listo eso es todo  \n",
        "\n",
        "con_lineal()\n",
        "print(\"Los 100 numeros aleatorios generados\")\n",
        "print(numero11)\n",
        "print(\"Tabla de intervalos y el conteo de numeros dentro de cada intervalo\")\n",
        "tablas = calcular_chi(numero11)\n",
        "print(tablas)\n",
        "print(\"Calculamos el valor de chi cuadrado\")\n",
        "val=sumatoria_chi(tablas,10)\n",
        "print(val)\n",
        "print(\"Grafica de barras\")\n",
        "graficar(tablas)  "
      ],
      "metadata": {
        "colab": {
          "base_uri": "https://localhost:8080/",
          "height": 481
        },
        "id": "Up6FEkgzVPae",
        "outputId": "1fa4c077-fbf2-4dec-d61d-770945895768"
      },
      "execution_count": null,
      "outputs": [
        {
          "output_type": "stream",
          "name": "stdout",
          "text": [
            "Ingrese la semilla: 7\n",
            "Ingrese el valor a: 74731897457\n",
            "Ingrese el valor b: 74731897457\n",
            "Ingrese el valor m: 19\n",
            "Los 100 numeros aleatorios generados\n",
            "[0.15789473684210525, 0.5789473684210527, 0.7368421052631579, 0.42105263157894735, 0.05263157894736842, 0.7894736842105263, 0.3157894736842105, 0.2631578947368421, 0.3684210526315789, 0.15789473684210525, 0.5789473684210527, 0.7368421052631579, 0.42105263157894735, 0.05263157894736842, 0.7894736842105263, 0.3157894736842105, 0.2631578947368421, 0.3684210526315789, 0.15789473684210525, 0.5789473684210527, 0.7368421052631579, 0.42105263157894735, 0.05263157894736842, 0.7894736842105263, 0.3157894736842105, 0.2631578947368421, 0.3684210526315789, 0.15789473684210525, 0.5789473684210527, 0.7368421052631579, 0.42105263157894735, 0.05263157894736842, 0.7894736842105263, 0.3157894736842105, 0.2631578947368421, 0.3684210526315789, 0.15789473684210525, 0.5789473684210527, 0.7368421052631579, 0.42105263157894735, 0.05263157894736842, 0.7894736842105263, 0.3157894736842105, 0.2631578947368421, 0.3684210526315789, 0.15789473684210525, 0.5789473684210527, 0.7368421052631579, 0.42105263157894735, 0.05263157894736842, 0.7894736842105263, 0.3157894736842105, 0.2631578947368421, 0.3684210526315789, 0.15789473684210525, 0.5789473684210527, 0.7368421052631579, 0.42105263157894735, 0.05263157894736842, 0.7894736842105263, 0.3157894736842105, 0.2631578947368421, 0.3684210526315789, 0.15789473684210525, 0.5789473684210527, 0.7368421052631579, 0.42105263157894735, 0.05263157894736842, 0.7894736842105263, 0.3157894736842105, 0.2631578947368421, 0.3684210526315789, 0.15789473684210525, 0.5789473684210527, 0.7368421052631579, 0.42105263157894735, 0.05263157894736842, 0.7894736842105263, 0.3157894736842105, 0.2631578947368421, 0.3684210526315789, 0.15789473684210525, 0.5789473684210527, 0.7368421052631579, 0.42105263157894735, 0.05263157894736842, 0.7894736842105263, 0.3157894736842105, 0.2631578947368421, 0.3684210526315789, 0.15789473684210525, 0.5789473684210527, 0.7368421052631579, 0.42105263157894735, 0.05263157894736842, 0.7894736842105263, 0.3157894736842105, 0.2631578947368421, 0.3684210526315789, 0.15789473684210525]\n",
            "Tabla de intervalos y el conteo de numeros dentro de cada intervalo\n",
            "{0.0: 11, 0.1: 12, 0.2: 11, 0.3: 22, 0.4: 11, 0.5: 11, 0.7: 22}\n",
            "Calculamos el valor de chi cuadrado\n",
            "29.6\n",
            "Grafica de barras\n"
          ]
        },
        {
          "output_type": "display_data",
          "data": {
            "text/plain": [
              "<Figure size 432x288 with 1 Axes>"
            ],
            "image/png": "[encoded data removed]"
          },
          "metadata": {
            "needs_background": "light"
          }
        }
      ]
    },
    {
      "cell_type": "markdown",
      "source": [
        "#Tauswoth q=7, r=3, l=5"
      ],
      "metadata": {
        "id": "L1vO8RsAjsA2"
      }
    },
    {
      "cell_type": "code",
      "source": [
        "#Generador Tausworthe de 8 bits\n",
        "from itertools import zip_longest\n",
        "numero12 =[]\n",
        "def taus():\n",
        "  r = int(input(\"Ingrese el valor de r: \"))\n",
        "  q = int(input(\"Ingrese el valor de q: \"))\n",
        "  base = int(input(\"Ingrese el valor de la base binaria: \"))\n",
        "  def operacionXOR(a,b):\n",
        "    ab = 1\n",
        "    if a  == b:\n",
        "      ab = 0\n",
        "    return ab\n",
        "\n",
        "  bits = []\n",
        "  b = (2**q) - 1\n",
        "  print('valor de b:',b)\n",
        "\n",
        "  for i in range(0,b):\n",
        "    bits.append(0)\n",
        "\n",
        "\n",
        "  for i in range(0,q):\n",
        "    bits[i] = 1\n",
        "    bits.append(1)\n",
        "\n",
        "  a = q+1\n",
        "  for i in range(a,len(bits)):\n",
        "    i1 = i - r\n",
        "    i2 = i - q\n",
        "    bits[i] = operacionXOR(bits[i1],bits[i2])\n",
        "\n",
        "\n",
        "  def binaryToDecimal(binario):\n",
        "    a = 0\n",
        "    p = base-1\n",
        "    for i in range(0,len(binario)):\n",
        "      if binario[i] == 1:\n",
        "        a += 2**(p-i)\n",
        "    return a\n",
        "\n",
        "\n",
        "\n",
        "  test_list = bits\n",
        "\n",
        "\n",
        "  def group_elements(n, iterable, padvalue='1'):\n",
        "      return zip_longest(*[iter(iterable)]*n, fillvalue=padvalue)\n",
        "\n",
        "  #print(\"\\n\",\"It.\", \"\\t\", \"Base 2\", \"\\t\",\"Base 10\",\"\\t\",\"Ui\",\"\\n\")\n",
        "  d = 0\n",
        "  for output in group_elements(base,test_list):\n",
        "      lst_new = [str(a) for a in output]\n",
        "      valw=binaryToDecimal(output)/(2**base)\n",
        "      [numero12.append(valw)]\n",
        "      #print(d,\"\\t\" ,\" \".join(lst_new), \"\\t\", binaryToDecimal(output), \"\\t\", \"\\t\",valw )\n",
        "      d +=1\n",
        "\n",
        "#Defino una funcion para realizar un conteo de los numeros que caen dentro de cada intervalo\n",
        "def calcular_chi(numeros):\n",
        "  tablas = {}\n",
        "  for i in np.arange(0.1, 1.1, 0.1): # aqui separo en intervalos de 0.1\n",
        "    for j in numeros:\n",
        "      if j > i-0.1 and j <= i: # Compruebo si el valor esta dentro del intervalor\n",
        "        tablas[round(i-0.1,1)] = tablas[round(i-0.1,1)]+1 if round(i-0.1,1) in tablas else 1\n",
        "  return tablas\n",
        "#defino una funcion para aplicar la formula y obtener la desviacion estandar de cada intervalo  \n",
        "def sumatoria_chi(tabla, E):\n",
        "  return sum([(valor - E)**2 / E for valor in tabla.values()])\n",
        "#Defino una funcion para graficar en un cuadro de barras los valores de cada intervalo\n",
        "def graficar(tabla):\n",
        "  plt.bar(range(len(tabla)), list(tabla.values()), tick_label=list(tabla.keys()))\n",
        "  plt.show()\n",
        "# Listo eso es todo  \n",
        "\n",
        "taus()\n",
        "print(\"Numeros aleatorios generados\")\n",
        "print(numero12)\n",
        "print(\"Tabla de intervalos y el conteo de numeros dentro de cada intervalo\")\n",
        "tablas = calcular_chi(numero12)\n",
        "print(tablas)\n",
        "print(\"Calculamos el valor de chi cuadrado\")\n",
        "val=sumatoria_chi(tablas,10)\n",
        "print(val)\n",
        "print(\"Grafica de barras\")\n",
        "graficar(tablas)  \n"
      ],
      "metadata": {
        "colab": {
          "base_uri": "https://localhost:8080/",
          "height": 481
        },
        "id": "zUoaPbFzhldx",
        "outputId": "f8d6dd16-1bed-4329-8070-fc4dd2f9cf97"
      },
      "execution_count": null,
      "outputs": [
        {
          "output_type": "stream",
          "name": "stdout",
          "text": [
            "Ingrese el valor de r: 3\n",
            "Ingrese el valor de q: 7\n",
            "Ingrese el valor de la base binaria: 5\n",
            "valor de b: 127\n",
            "Numeros aleatorios generados\n",
            "[0.96875, 0.75, 0.90625, 0.53125, 0.28125, 0.46875, 0.65625, 0.25, 0.34375, 0.46875, 0.21875, 0.15625, 0.375, 0.75, 0.1875, 0.8125, 0.90625, 0.09375, 0.125, 0.25, 0.0625, 0.28125, 0.625, 0.9375, 0.875, 0.21875, 0.9375]\n",
            "Tabla de intervalos y el conteo de numeros dentro de cada intervalo\n",
            "{0.0: 2, 0.1: 3, 0.2: 6, 0.3: 2, 0.4: 2, 0.5: 1, 0.6: 2, 0.7: 2, 0.8: 2, 0.9: 5}\n",
            "Calculamos el valor de chi cuadrado\n",
            "55.5\n",
            "Grafica de barras\n"
          ]
        },
        {
          "output_type": "display_data",
          "data": {
            "text/plain": [
              "<Figure size 432x288 with 1 Axes>"
            ],
            "image/png": "[encoded data removed]"
          },
          "metadata": {
            "needs_background": "light"
          }
        }
      ]
    },
    {
      "cell_type": "code",
      "source": [
        ""
      ],
      "metadata": {
        "id": "RWlK3v8lk63_"
      },
      "execution_count": null,
      "outputs": []
    }
  ]
}