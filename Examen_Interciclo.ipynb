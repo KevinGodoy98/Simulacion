{
  "nbformat": 4,
  "nbformat_minor": 0,
  "metadata": {
    "colab": {
      "name": "Examen-Interciclo.ipynb",
      "provenance": [],
      "collapsed_sections": []
    },
    "kernelspec": {
      "name": "python3",
      "display_name": "Python 3"
    },
    "language_info": {
      "name": "python"
    }
  },
  "cells": [
    {
      "cell_type": "code",
      "execution_count": 109,
      "metadata": {
        "id": "khs_gqvoiCS0"
      },
      "outputs": [],
      "source": [
        "#importar las librerias necesarias\n",
        "import matplotlib.pyplot as plt\n",
        "import numpy as np\n",
        "import pandas as pd\n",
        "import io\n",
        "from google.colab import files\n",
        "import plotly.graph_objects as go\n",
        "import math\n",
        "import random\n",
        "import pandas as pd"
      ]
    },
    {
      "cell_type": "markdown",
      "source": [
        "#Cuadrados medios: Xo=74731897457, D=7\n"
      ],
      "metadata": {
        "id": "IgcXQK3akuzc"
      }
    },
    {
      "cell_type": "code",
      "source": [
        "def calculos_pocker(numerosAleatorios):\n",
        "    numeros={}\n",
        "    repeticion={}\n",
        "    contador=0\n",
        "    b=[]\n",
        "    diccio={'todos diferentes':0,'Par':0,'2 pares':0,'Tercia y par':0,'tercia':0,'Poker':0,'quintilla':0}\n",
        "    for n in numerosAleatorios: \n",
        "        naux=n.split(\".\")[1]\n",
        "        naux=naux[:5]\n",
        "        b.append(naux)\n",
        "        for n in naux:\n",
        "            if n in repeticion: \n",
        "                if repeticion[n] == 1: \n",
        "                    contador += 1 \n",
        "                repeticion[n] += 1 \n",
        "            else:\n",
        "                repeticion[n] = 1 \n",
        "        numeros[n]=repeticion\n",
        "\n",
        "        cont=0\n",
        "        \n",
        "        vals=list(repeticion.values())\n",
        "\n",
        "        if (2 in vals) and (3 in vals):\n",
        "            diccio['Tercia y par']+=1\n",
        "        elif 2 in vals:\n",
        "            for rep in vals:\n",
        "                if rep==2:\n",
        "                    cont+=1\n",
        "            if cont == 1:\n",
        "                diccio['Par']+=1\n",
        "            if cont == 2:\n",
        "                diccio['2 pares']+=1\n",
        "        elif 3 in vals:\n",
        "            diccio['tercia']+=1\n",
        "        elif 4 in vals:\n",
        "            diccio['Poker']+=1\n",
        "        elif 5 in vals:\n",
        "            diccio['quintilla']+=1\n",
        "        else:\n",
        "            diccio['todos diferentes']+=1\n",
        "\n",
        "        repeticion={}\n",
        "    \n",
        "    lista=list(diccio.values())\n",
        "    sumaFinal=sum(lista)\n",
        "    print(b)\n",
        "    print(diccio)\n",
        "    uno=(((0.3024*sumaFinal)-diccio['todos diferentes']))**2/(0.3024*sumaFinal)\n",
        "    dos=(((0.5040*sumaFinal)-diccio['Par']))**2/(0.5040*sumaFinal)\n",
        "    tres=(((0.1080*sumaFinal)-diccio['2 pares']))**2/(0.1080*sumaFinal)\n",
        "    cuatro=(((0.0090*sumaFinal)-diccio['Tercia y par']))**2/(0.0090*sumaFinal)\n",
        "    cinco=(((0.0720*sumaFinal)-diccio['tercia']))**2/(0.0720*sumaFinal)\n",
        "    seis=(((0.0045*sumaFinal)-diccio['Poker']))**2/(0.0045*sumaFinal)\n",
        "    siete=(((0.0001*sumaFinal)-diccio['quintilla']))**2/(0.0001*sumaFinal)\n",
        "    listaProbabilidad=[uno,dos,tres, cuatro, cinco, seis, siete]\n",
        "    sumsa=sum(listaProbabilidad)\n",
        "    # print(numerosAleatorios)\n",
        "    return sumsa"
      ],
      "metadata": {
        "id": "271FBfPCkmsv"
      },
      "execution_count": 110,
      "outputs": []
    },
    {
      "cell_type": "code",
      "source": [
        "def cuadrados_medios(xo, digitos):\n",
        "    iteraciones = 100\n",
        "    xn = xo\n",
        "    aleatorios=[]\n",
        "    for i in range(iteraciones):\n",
        "        xnn = xn**2\n",
        "        txnn = str(xnn).zfill(8)\n",
        "        tam = len(txnn)\n",
        "        ui = int(txnn[int(tam/2-digitos/2):int(tam/2+digitos/2)])\n",
        "        rn = ui / (int('9'*digitos)+1)\n",
        "        rn=str(rn)\n",
        "        aleatorios.append(rn)\n",
        "        xn = ui\n",
        "    return aleatorios\n",
        "\n",
        "calculos_pocker(cuadrados_medios(74731897457, 7))"
      ],
      "metadata": {
        "colab": {
          "base_uri": "https://localhost:8080/"
        },
        "id": "TRCT2fufYTR2",
        "outputId": "de750bbb-0879-4b07-98ea-d8063db3152e"
      },
      "execution_count": 111,
      "outputs": [
        {
          "output_type": "stream",
          "name": "stdout",
          "text": [
            "['49752', '52963', '51111', '23813', '07944', '12032', '77792', '17166', '67842', '25695', '24741', '13786', '06372', '60493', '94369', '55553', '61858', '64195', '11084', '86414', '74658', '38318', '83419', '87779', '52300', '53799', '43926', '95426', '62607', '97591', '41184', '61531', '61316', '97070', '26625', '92044', '21955', '02290', '45565', '62330', '50488', '90835', '11480', '79292', '73100', '37138', '92325', '39591', '75050', '26285', '94538', '75185', '28263', '81299', '96298', '33779', '10816', '99537', '76979', '58896', '87482', '31685', '39772', '18493', '01656', '45582', '77843', '96291', '20991', '66070', '53136', '34483', '90848', '34953', '17653', '64182', '93984', '30674', '92065', '60710', '57283', '14383', '87788', '67417', '50815', '22170', '54082', '49200', '06901', '63539', '72718', '80122', '95957', '78917', '78992', '97392', '52464', '25384', '37284', '00981']\n",
            "{'todos diferentes': 23, 'Par': 57, '2 pares': 14, 'Tercia y par': 1, 'tercia': 3, 'Poker': 2, 'quintilla': 0}\n"
          ]
        },
        {
          "output_type": "execute_result",
          "data": {
            "text/plain": [
              "11.355820105820106"
            ]
          },
          "metadata": {},
          "execution_count": 111
        }
      ]
    },
    {
      "cell_type": "code",
      "source": [
        "def random_python(semilla):\n",
        "    N=100\n",
        "    numeros = []\n",
        "    random.seed(semilla)\n",
        "    for i in range(N):\n",
        "        nrand=random.random()\n",
        "        nrand=str(nrand)\n",
        "        numeros.append(nrand)\n",
        "    return numeros\n",
        "\n",
        "calculos_pocker(random_python(1032022))"
      ],
      "metadata": {
        "colab": {
          "base_uri": "https://localhost:8080/"
        },
        "id": "DIoRMlc7XKrV",
        "outputId": "f961bd87-97ff-438c-d828-d34dfd700995"
      },
      "execution_count": 104,
      "outputs": [
        {
          "output_type": "stream",
          "name": "stdout",
          "text": [
            "['60096', '75448', '12043', '22381', '35544', '36493', '17405', '32250', '07365', '22328', '56576', '47192', '42029', '37108', '10650', '38331', '70498', '13690', '57169', '97893', '23678', '00672', '51390', '64386', '67770', '18065', '26003', '99901', '78192', '65281', '41158', '35032', '63215', '24128', '15876', '06886', '22031', '06359', '63595', '59540', '67986', '24934', '97015', '51759', '01464', '62785', '60439', '57345', '09193', '38857', '39098', '94565', '13011', '65062', '74547', '83429', '28925', '99047', '52202', '45849', '09767', '37267', '71644', '15920', '09577', '54991', '90418', '68507', '20019', '80839', '31619', '42123', '57313', '67765', '25347', '04977', '06577', '13836', '57308', '12501', '24218', '36667', '73774', '20541', '26456', '14637', '49109', '51830', '33457', '74858', '79547', '29900', '49724', '82045', '41788', '02400', '62875', '83702', '65463', '04217']\n",
            "{'todos diferentes': 32, 'Par': 52, '2 pares': 7, 'Tercia y par': 0, 'tercia': 9, 'Poker': 0, 'quintilla': 0}\n"
          ]
        },
        {
          "output_type": "execute_result",
          "data": {
            "text/plain": [
              "3.3002645502645507"
            ]
          },
          "metadata": {},
          "execution_count": 104
        }
      ]
    },
    {
      "cell_type": "code",
      "source": [
        "from itertools import zip_longest\n",
        "def tausworth(q,r,l):\n",
        " #Generador Tausworthe de 8 bits\n",
        "  def operacionXOR(a,b):\n",
        "    ab = 1\n",
        "    if a  == b:\n",
        "      ab = 0\n",
        "    return ab\n",
        "\n",
        "  bits = []\n",
        "  b = (2**q) - 1\n",
        "  print('valor de b:',b)\n",
        "\n",
        "  for i in range(0,b):\n",
        "    bits.append(0)\n",
        "\n",
        "\n",
        "  for i in range(0,q):\n",
        "    bits[i] = 1\n",
        "    bits.append(1)\n",
        "\n",
        "  a = q+1\n",
        "  for i in range(a,len(bits)):\n",
        "    i1 = i - r\n",
        "    i2 = i - q\n",
        "    bits[i] = operacionXOR(bits[i1],bits[i2])\n",
        "\n",
        "\n",
        "  def binaryToDecimal(binario):\n",
        "    a = 0\n",
        "    p = l-1\n",
        "    for i in range(0,len(binario)):\n",
        "      if binario[i] == 1:\n",
        "        a += 2**(p-i)\n",
        "    return a\n",
        "\n",
        "\n",
        "\n",
        "  test_list = bits\n",
        "\n",
        "\n",
        "  def group_elements(n, iterable, padvalue='1'):\n",
        "      return zip_longest(*[iter(iterable)]*n, fillvalue=padvalue)\n",
        "  d = 0\n",
        "  for output in group_elements(l,test_list):\n",
        "      lst_new = [str(a) for a in output]\n",
        "      print(d,\"\\t\" ,\" \".join(lst_new), \"\\t\", binaryToDecimal(output), \"\\t\", \"\\t\", binaryToDecimal(output)/(2**l))\n",
        "      d +=1\n",
        "\n",
        "  calculos_pocker(tausworth(15,7,7))"
      ],
      "metadata": {
        "colab": {
          "base_uri": "https://localhost:8080/"
        },
        "id": "SMklMXdkMepZ",
        "outputId": "b7ff2c64-adbc-453f-b17c-df5180c14235"
      },
      "execution_count": 106,
      "outputs": [
        {
          "output_type": "stream",
          "name": "stdout",
          "text": [
            "['99218', '99218', '5', '49218', '74218', '5', '36718', '61718', '6875', '49218', '64843', '59375', '28906', '52343', '63281', '375', '6875', '0', '34375', '34375', '45312', '34375', '38281', '30468', '49218', '84375', '39843', '53906', '71875', '48437', '625', '61718', '80468', '5', '39843', '64843', '57812', '27343', '54687', '67968', '40625', '24218', '53906', '57812', '3125', '60156', '69531', '99218', '14843', '84375', '28906', '64843', '50781', '3125', '5625', '21875', '4375', '42187', '32812', '38281', '28125', '46875', '85937', '875', '55468', '99218', '71875', '27343', '60156', '71875', '45312', '65625', '57031', '77343', '55468', '42187', '66406', '10937', '28125', '77343', '88281', '5', '4375', '6875', '53125', '8125', '57812', '98437', '71093', '78125', '57031', '46093', '24218', '51562', '10156', '84375', '82812', '21875', '32031', '30468']\n",
            "{'todos diferentes': 53, 'Par': 41, '2 pares': 4, 'Tercia y par': 0, 'tercia': 2, 'Poker': 0, 'quintilla': 0}\n"
          ]
        },
        {
          "output_type": "execute_result",
          "data": {
            "text/plain": [
              "28.28042328042328"
            ]
          },
          "metadata": {},
          "execution_count": 106
        }
      ]
    },
    {
      "cell_type": "code",
      "source": [
        "def congruencia_lineal(a,b,xo,m):\n",
        "    iteraciones = 100\n",
        "    xn = xo\n",
        "    numeros=[]\n",
        "    for i in range(iteraciones):\n",
        "        xnn = (a*xn+b) % m\n",
        "        ui = xnn/m\n",
        "        ui=str(ui)\n",
        "        numeros.append(ui)\n",
        "        xn = xnn\n",
        "    return numeros\n",
        "\n",
        "calculos_pocker(congruencia_lineal(74731897457,37747318974,7,19))"
      ],
      "metadata": {
        "colab": {
          "base_uri": "https://localhost:8080/"
        },
        "id": "KHavvo_tZnXb",
        "outputId": "761046bf-1e28-47df-ef97-02146f3f4ad0"
      },
      "execution_count": 108,
      "outputs": [
        {
          "output_type": "stream",
          "name": "stdout",
          "text": [
            "['89473', '84210', '94736', '73684', '15789', '31578', '0', '63157', '36842', '89473', '84210', '94736', '73684', '15789', '31578', '0', '63157', '36842', '89473', '84210', '94736', '73684', '15789', '31578', '0', '63157', '36842', '89473', '84210', '94736', '73684', '15789', '31578', '0', '63157', '36842', '89473', '84210', '94736', '73684', '15789', '31578', '0', '63157', '36842', '89473', '84210', '94736', '73684', '15789', '31578', '0', '63157', '36842', '89473', '84210', '94736', '73684', '15789', '31578', '0', '63157', '36842', '89473', '84210', '94736', '73684', '15789', '31578', '0', '63157', '36842', '89473', '84210', '94736', '73684', '15789', '31578', '0', '63157', '36842', '89473', '84210', '94736', '73684', '15789', '31578', '0', '63157', '36842', '89473', '84210', '94736', '73684', '15789', '31578', '0', '63157', '36842', '89473']\n",
            "{'todos diferentes': 100, 'Par': 0, '2 pares': 0, 'Tercia y par': 0, 'tercia': 0, 'Poker': 0, 'quintilla': 0}\n"
          ]
        },
        {
          "output_type": "execute_result",
          "data": {
            "text/plain": [
              "230.68783068783063"
            ]
          },
          "metadata": {},
          "execution_count": 108
        }
      ]
    }
  ]
}