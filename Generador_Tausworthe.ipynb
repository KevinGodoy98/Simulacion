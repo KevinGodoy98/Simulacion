{
  "nbformat": 4,
  "nbformat_minor": 0,
  "metadata": {
    "colab": {
      "name": "Generador Tausworthe.ipynb",
      "provenance": []
    },
    "kernelspec": {
      "name": "python3",
      "display_name": "Python 3"
    },
    "language_info": {
      "name": "python"
    }
  },
  "cells": [
    {
      "cell_type": "markdown",
      "source": [
        "**Aula invertida / Investigación**\n",
        "\n",
        "Para mejorar la generación de numeros aleatorios se utiliza procesos o algoritmo criptograficos, en base a ellos realizar la investigación e implementación del algoritmo *Tausworthe*\n",
        "\n",
        "Realizar una presentacion \n",
        "\n",
        "- Ejemplo excel \n",
        "- Codigo en python "
      ],
      "metadata": {
        "id": "a_tlZmi1hkmP"
      }
    },
    {
      "cell_type": "code",
      "source": [
        "#Generador Tausworthe de 8 bits\n",
        "from itertools import zip_longest\n",
        "\n",
        "r = int(input(\"Ingrese el valor de r: \"))\n",
        "q = int(input(\"Ingrese el valor de q: \"))\n",
        "base = int(input(\"Ingrese el valor de la base binaria: \"))\n",
        "def operacionXOR(a,b):\n",
        "  ab = 1\n",
        "  if a  == b:\n",
        "    ab = 0\n",
        "  return ab\n",
        "\n",
        "bits = []\n",
        "b = (2**q) - 1\n",
        "print('valor de b:',b)\n",
        "\n",
        "for i in range(0,b):\n",
        "  bits.append(0)\n",
        "\n",
        "\n",
        "for i in range(0,q):\n",
        "  bits[i] = 1\n",
        "  bits.append(1)\n",
        "\n",
        "a = q+1\n",
        "for i in range(a,len(bits)):\n",
        "  i1 = i - r\n",
        "  i2 = i - q\n",
        "  bits[i] = operacionXOR(bits[i1],bits[i2])\n",
        "\n",
        "\n",
        "def binaryToDecimal(binario):\n",
        "  a = 0\n",
        "  p = base-1\n",
        "  for i in range(0,len(binario)):\n",
        "    if binario[i] == 1:\n",
        "      a += 2**(p-i)\n",
        "  return a\n",
        "\n",
        "\n",
        "\n",
        "test_list = bits\n",
        "\n",
        "\n",
        "def group_elements(n, iterable, padvalue='1'):\n",
        "    return zip_longest(*[iter(iterable)]*n, fillvalue=padvalue)\n",
        "\n",
        "print(\"\\n\",\"It.\", \"\\t\", \"Base 2\", \"\\t\",\"Base 10\",\"\\t\",\"Ui\",\"\\n\")\n",
        "d = 0\n",
        "for output in group_elements(base,test_list):\n",
        "    lst_new = [str(a) for a in output]\n",
        "    print(d,\"\\t\" ,\" \".join(lst_new), \"\\t\", binaryToDecimal(output), \"\\t\", \"\\t\", binaryToDecimal(output)/(2**base))\n",
        "    d +=1"
      ],
      "metadata": {
        "colab": {
          "base_uri": "https://localhost:8080/"
        },
        "id": "zUoaPbFzhldx",
        "outputId": "01bdf59e-b764-4cb3-ed23-e6432ad2ff57"
      },
      "execution_count": 4,
      "outputs": [
        {
          "output_type": "stream",
          "name": "stdout",
          "text": [
            "Ingrese el valor de r: 1\n",
            "Ingrese el valor de q: 5\n",
            "Ingrese el valor de la base binaria: 2\n",
            "valor de b: 31\n",
            "\n",
            " It. \t Base 2 \t Base 10 \t Ui \n",
            "\n",
            "0 \t 1 1 \t 3 \t \t 0.75\n",
            "1 \t 1 1 \t 3 \t \t 0.75\n",
            "2 \t 1 0 \t 2 \t \t 0.5\n",
            "3 \t 1 0 \t 2 \t \t 0.5\n",
            "4 \t 1 0 \t 2 \t \t 0.5\n",
            "5 \t 0 1 \t 1 \t \t 0.25\n",
            "6 \t 1 0 \t 2 \t \t 0.5\n",
            "7 \t 0 0 \t 0 \t \t 0.0\n",
            "8 \t 1 0 \t 2 \t \t 0.5\n",
            "9 \t 0 0 \t 0 \t \t 0.0\n",
            "10 \t 0 1 \t 1 \t \t 0.25\n",
            "11 \t 1 1 \t 3 \t \t 0.75\n",
            "12 \t 1 1 \t 3 \t \t 0.75\n",
            "13 \t 0 1 \t 1 \t \t 0.25\n",
            "14 \t 0 1 \t 1 \t \t 0.25\n",
            "15 \t 0 0 \t 0 \t \t 0.0\n",
            "16 \t 1 1 \t 3 \t \t 0.75\n",
            "17 \t 0 0 \t 0 \t \t 0.0\n"
          ]
        }
      ]
    },
    {
      "cell_type": "code",
      "source": [
        ""
      ],
      "metadata": {
        "id": "zbySFne18LvK"
      },
      "execution_count": null,
      "outputs": []
    }
  ]
}