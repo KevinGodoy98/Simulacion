{
 "cells": [
  {
   "cell_type": "code",
   "execution_count": 2,
   "outputs": [],
   "source": [
    "import tkinter\n",
    "import cs as cs\n",
    "import pip\n",
    "import simpy as simpy\n"
   ],
   "metadata": {
    "collapsed": false,
    "pycharm": {
     "name": "#%%\n"
    }
   }
  },
  {
   "cell_type": "code",
   "execution_count": 3,
   "metadata": {},
   "outputs": [
    {
     "name": "stdout",
     "output_type": "stream",
     "text": [
      "Teatro Carlos Crespi - UPS\n",
      "Pelicula: Conjuro 3 se agoto en el tiempo 97.2 despues de salir a la venta\n",
      "Numero de personas que salieron de la fila/renegados 1\n",
      "Pelicula: Rapidos y Furiosos 10 se agoto en el tiempo 37.3 despues de salir a la venta\n",
      "Numero de personas que salieron de la fila/renegados 0\n",
      "Pelicula: Pulp Fictions se agoto en el tiempo 23.3 despues de salir a la venta\n",
      "Numero de personas que salieron de la fila/renegados 16\n",
      "Rapidos y furiosos 10: 50\n",
      "Conjuro 3: 49\n",
      "Pulp Fictions: 49\n"
     ]
    }
   ],
   "source": [
    "import collections\n",
    "import random\n",
    "import simpy\n",
    "\n",
    "VELOCIDAD_LLEGADA = 42\n",
    "NUM_BOLETO = 50\n",
    "TIEMPO_SIMULACION = 120\n",
    "\n",
    "boletos_vendidos={}\n",
    "def ventaBoletos(env, num_boletos, pelicula, teatro):\n",
    "  with teatro.contador.request() as turno:\n",
    "    resultado = yield turno | teatro.sold_out[pelicula]\n",
    "    if turno not in resultado:\n",
    "      teatro.num_renegados[pelicula] += 1\n",
    "      return\n",
    "    if teatro.num_boletos[pelicula] < num_boletos:\n",
    "      yield env.timeout(0.5)\n",
    "      return\n",
    "    else:\n",
    "      if pelicula in list(boletos_vendidos.keys()):\n",
    "        a=boletos_vendidos.get(pelicula)\n",
    "        a.append(num_boletos)\n",
    "        boletos_vendidos[pelicula]=a\n",
    "      else:\n",
    "        boletos_vendidos[pelicula]=[num_boletos]\n",
    "\n",
    "    teatro.num_boletos[pelicula] -= num_boletos\n",
    "    if teatro.num_boletos[pelicula] < 2:\n",
    "      teatro.sold_out[pelicula].succeed()\n",
    "      teatro.tiempo_agotado[pelicula] = env.now\n",
    "      teatro.num_boletos[pelicula] = 0\n",
    "    yield env.timeout(1)\n",
    "\n",
    "\n",
    "def llegadaClientes(env, teatro):\n",
    "  while True:\n",
    "    yield env.timeout(random.expovariate(1/0.5))\n",
    "    pelicula = random.choices(teatro.peliculas, teatro.probabilidad, k=1)\n",
    "    num_boletos = random.randint(1, 6)\n",
    "    if teatro.num_boletos[pelicula[0]]:\n",
    "      env.process(ventaBoletos(env, num_boletos, pelicula[0], teatro))\n",
    "\n",
    "\n",
    "Teatro = collections.namedtuple('Teatro', 'contador, peliculas, probabilidad, num_boletos, sold_out, tiempo_agotado, num_renegados')\n",
    "\n",
    "print('Teatro Carlos Crespi - UPS')\n",
    "env = simpy.Environment()\n",
    "\n",
    "contador = simpy.Resource(env,capacity=1)\n",
    "peliculas = ['Conjuro 3', 'Rapidos y Furiosos 10', 'Pulp Fictions']\n",
    "probabilidad=[0.1, 0.3, 0.6]\n",
    "num_boletos = {pelicula: NUM_BOLETO for pelicula in peliculas}\n",
    "sold_out = {pelicula: env.event() for pelicula in peliculas}\n",
    "tiempo_agotado = {pelicula: None for pelicula in peliculas}\n",
    "num_renegados = {pelicula: 0 for pelicula in peliculas}\n",
    "\n",
    "teatro = Teatro(contador, peliculas, probabilidad, num_boletos, sold_out, tiempo_agotado, num_renegados)\n",
    "env.process(llegadaClientes(env, teatro))\n",
    "env.run(until=TIEMPO_SIMULACION)\n",
    "\n",
    "# Analisis y resultados\n",
    "for pelicula in peliculas:\n",
    "  if teatro.sold_out[pelicula]:\n",
    "    print('Pelicula: %s se agoto en el tiempo %.1f despues de salir a la venta' %(pelicula, teatro.tiempo_agotado[pelicula]))\n",
    "    print('Numero de personas que salieron de la fila/renegados %s' %teatro.num_renegados[pelicula])\n",
    "\n",
    "total_Pulp=sum(boletos_vendidos['Pulp Fictions'])\n",
    "total_conjuro=sum(boletos_vendidos['Conjuro 3'])\n",
    "total_rapidos=sum(boletos_vendidos['Rapidos y Furiosos 10'])\n",
    "\n",
    "print('Rapidos y furiosos 10:',total_rapidos)\n",
    "print('Conjuro 3:',total_conjuro)\n",
    "print('Pulp Fictions:',total_Pulp)"
   ]
  },
  {
   "cell_type": "markdown",
   "metadata": {},
   "source": [
    "**Tarea/Practica**\n",
    "\n",
    "Al modelo de simulación de la venta de boletos de un teatro/cine agregar la simulación grafica 2D/3D utilizando cualquier libreria grafica, por ejemplo pygame/tkinter, etc. generar un informe en formato PDF que me permita evidenciar la simulación y generar una grafica/reporte de los resultados.\n",
    "\n"
   ]
  },
  {
   "cell_type": "code",
   "execution_count": 4,
   "metadata": {},
   "outputs": [],
   "source": [
    "import matplotlib\n",
    "matplotlib.use('Agg')"
   ]
  },
  {
   "cell_type": "markdown",
   "source": [
    "**Grafica 2D**"
   ],
   "metadata": {
    "collapsed": false
   }
  },
  {
   "cell_type": "code",
   "execution_count": 5,
   "metadata": {
    "pycharm": {
     "name": "#%%\n"
    }
   },
   "outputs": [],
   "source": [
    "import tkinter as tk\n",
    "import matplotlib\n",
    "\n",
    "matplotlib.use('TkAgg')\n",
    "\n",
    "from matplotlib.figure import Figure\n",
    "from matplotlib.backends.backend_tkagg import (\n",
    "    FigureCanvasTkAgg,\n",
    "    NavigationToolbar2Tk\n",
    ")\n",
    "\n",
    "class App(tk.Tk):\n",
    "    def __init__(self):\n",
    "        super().__init__()\n",
    "\n",
    "        self.title('Grafica')\n",
    "\n",
    "        # # prepare data\n",
    "        data =num_renegados\n",
    "        languages = data.keys()\n",
    "        popularity = data.values()\n",
    "\n",
    "        # prepare data\n",
    "        #data1 =boletos_vendidos\n",
    "        #boletos = data1.keys()\n",
    "        #vendidos = data1.values()\n",
    "\n",
    "        # create a figure\n",
    "        figure = Figure(figsize=(6, 4), dpi=100)\n",
    "\n",
    "        # create FigureCanvasTkAgg object\n",
    "        figure_canvas = FigureCanvasTkAgg(figure, self)\n",
    "\n",
    "        # create the toolbar\n",
    "        NavigationToolbar2Tk(figure_canvas, self)\n",
    "\n",
    "        # create axes\n",
    "        axes = figure.add_subplot()\n",
    "\n",
    "        # # create the barchart\n",
    "        axes.bar(languages, popularity)\n",
    "        axes.set_title('Renegados por pelicula')\n",
    "        axes.set_ylabel('#')\n",
    "\n",
    "        # # create the barchart\n",
    "        # axes.bar(boletos, vendidos)\n",
    "        # axes.set_title('Boletos vendidos por pelicula')\n",
    "        # axes.set_ylabel('#')\n",
    "\n",
    "        figure_canvas.get_tk_widget().pack(side=tk.TOP, fill=tk.BOTH, expand=1)\n",
    "\n",
    "\n",
    "if __name__ == '__main__':\n",
    "    app = App()\n",
    "    app.mainloop()"
   ]
  },
  {
   "cell_type": "markdown",
   "source": [
    "**Grafica 3D**"
   ],
   "metadata": {
    "collapsed": false
   }
  },
  {
   "cell_type": "code",
   "execution_count": 7,
   "outputs": [],
   "source": [
    "import tkinter\n",
    "import numpy as np\n",
    "from mpl_toolkits.mplot3d import Axes3D\n",
    "from matplotlib.backends.backend_tkagg import (\n",
    "                                    FigureCanvasTkAgg, NavigationToolbar2Tk)\n",
    "from matplotlib.figure import Figure\n",
    "\n",
    "root = tkinter.Tk()\n",
    "root.wm_title(\"Boletos Vendidos por pelicula\")\n",
    "\n",
    "fig = Figure(figsize=(5, 4), dpi=100)\n",
    "\n",
    "canvas = FigureCanvasTkAgg(fig, master=root)  # A tk.DrawingArea.\n",
    "canvas.draw()\n",
    "\n",
    "list_of_lists = [list(boletos_vendidos[pelicula])]\n",
    "\n",
    "data = np.array(list_of_lists)\n",
    "length = data.shape[0]\n",
    "width = data.shape[1]\n",
    "x, y = np.meshgrid(np.arange(length), np.arange(width))\n",
    "\n",
    "ax = fig.add_subplot(1,1,1, projection='3d')\n",
    "ax.plot_wireframe(x, y, data, alpha=0.8)\n",
    "\n",
    "toolbar = NavigationToolbar2Tk(canvas, root)\n",
    "toolbar.update()\n",
    "canvas.get_tk_widget().pack(side=tkinter.TOP, fill=tkinter.BOTH, expand=1)\n",
    "\n",
    "\n",
    "tkinter.mainloop()"
   ],
   "metadata": {
    "collapsed": false,
    "pycharm": {
     "name": "#%%\n"
    }
   }
  },
  {
   "cell_type": "markdown",
   "source": [
    "**Conclusion**\n",
    "\n",
    "La pelicula que no renego ningun cliente fue la del Conjuro 3, mientras que en rapidos & furiosos y finalmente en la pelicula Pulp Fictions si hubieron personas que renegaron sus boletos.\n",
    "\n",
    "\n",
    "\n",
    "\n",
    "\n",
    "\n"
   ],
   "metadata": {
    "collapsed": false,
    "pycharm": {
     "name": "#%% md\n"
    }
   }
  }
 ],
 "metadata": {
  "kernelspec": {
   "display_name": "Python 3.9.8 64-bit",
   "language": "python",
   "name": "python3"
  },
  "language_info": {
   "codemirror_mode": {
    "name": "ipython",
    "version": 3
   },
   "file_extension": ".py",
   "mimetype": "text/x-python",
   "name": "python",
   "nbconvert_exporter": "python",
   "pygments_lexer": "ipython3",
   "version": "3.9.8"
  },
  "orig_nbformat": 4,
  "vscode": {
   "interpreter": {
    "hash": "aee8b7b246df8f9039afb4144a1f6fd8d2ca17a180786b69acc140d282b71a49"
   }
  }
 },
 "nbformat": 4,
 "nbformat_minor": 2
}