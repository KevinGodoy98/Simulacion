{
  "nbformat": 4,
  "nbformat_minor": 0,
  "metadata": {
    "colab": {
      "name": "Practica Simpy-SED.ipynb",
      "provenance": []
    },
    "kernelspec": {
      "name": "python3",
      "display_name": "Python 3"
    },
    "language_info": {
      "name": "python"
    }
  },
  "cells": [
    {
      "cell_type": "markdown",
      "source": [
        "## Práctica Propuesta- SimPy SED\n",
        "\n",
        "Modifique el código anterior a fin de incorporar los siguientes cambios:\n",
        "\n",
        "* Considerar 3 tipos de vehículos con 3 diferentes tiempos de lavado:\n",
        "    * Bus: 15- 20 minutos\n",
        "    * Automóvil: 7-10 minutos\n",
        "    * Furgoneta: 12-15 minutos\n",
        "* Considere que a partir de la entrada del vehículo para ser lavado, deberán tomarse en cuenta los siguientes tiempos correspondientes al proceso de traslado desde la recepción a la máquina de lavado:\n",
        "    * Bus: 4 minutos\n",
        "    * Automóvil: 1 minuto\n",
        "    * Furgoneta: 2 minutos\n",
        "* Identificar el recurso maquina dentro de la simulación\n",
        "* Realice una gráfica comparativa de la simulación con 3 y con 4 máquinas de lavado\n",
        "* Generar llegada de vehiculos de 1 - 2 minutos, por 60 minutos de lavado, el tipo de vehiculo es generado aleatorialmente.\n",
        "\n"
      ],
      "metadata": {
        "id": "4i0Akj9NYTXJ"
      }
    },
    {
      "cell_type": "code",
      "source": [
        "pip install simpy"
      ],
      "metadata": {
        "colab": {
          "base_uri": "https://localhost:8080/"
        },
        "id": "RqBQBF8OC8Go",
        "outputId": "61165743-747e-4d99-f477-35ab8bd224fb"
      },
      "execution_count": null,
      "outputs": [
        {
          "output_type": "stream",
          "name": "stdout",
          "text": [
            "Looking in indexes: https://pypi.org/simple, https://us-python.pkg.dev/colab-wheels/public/simple/\n",
            "Collecting simpy\n",
            "  Downloading simpy-4.0.1-py2.py3-none-any.whl (29 kB)\n",
            "Installing collected packages: simpy\n",
            "Successfully installed simpy-4.0.1\n"
          ]
        }
      ]
    },
    {
      "cell_type": "code",
      "source": [
        "import simpy\n",
        "import random\n",
        "import matplotlib.pyplot as pp\n",
        "\n",
        "%matplotlib inline\n",
        "\n",
        "MAX_VEHICULOS = 57 \n",
        "# Total de maquinas\n",
        "NUM_MAQUINAS = 3\n",
        "# Tiempo en trasladarse\n",
        "TRASLADO_BUS = 4\n",
        "TRASLADO_AUTOMOVIL= 1\n",
        "TRASLADO_FURGONETA= 2\n",
        "# Tiempo en lavarse \n",
        "TIEMPO_BUS = 20\n",
        "TIEMPO_AUTOMOVIL= 7\n",
        "TIEMPO_FURGONETA= 12\n",
        "# Intervalo de tiempo en que llegan vehiculos (minutos)\n",
        "INTERVALO_LLEGADA = 10\n",
        "# Tiempo de simulación\n",
        "TIEMPO_SIMULACION = 120\n",
        "\n",
        "tiempo={}\n",
        "\n",
        "class Lavanderia(object):\n",
        "    \n",
        "    def __init__(self, environment, num_maquinas,tiempo_bus,tiempo_automovil,\n",
        "                 tiempo_furgoneta,traslado_bus,traslado_automovil,traslado_furgoneta):\n",
        "        \n",
        "        self.env=environment\n",
        "        self.maquinas = simpy.Resource(environment, num_maquinas)\n",
        "        # Variable para el tiempo de lavado\n",
        "        self.tiempo_bus = tiempo_bus\n",
        "        self.tiempo_automovil = tiempo_automovil\n",
        "        self.tiempo_furgoneta = tiempo_furgoneta\n",
        "        self.traslado_bus = traslado_bus\n",
        "        self.traslado_automovil = traslado_automovil\n",
        "        self.traslado_furgoneta = traslado_furgoneta\n",
        "        \n",
        "    def lavar_vehiculo(self, vehiculo):\n",
        "        automotor=vehiculo.split('-')\n",
        "        if(automotor[0] == 'Bus'):\n",
        "            yield self.env.timeout(TIEMPO_BUS)\n",
        "        if(automotor[0] == 'Automovil'):\n",
        "            yield self.env.timeout(TIEMPO_AUTOMOVIL)\n",
        "        if(automotor[0] == 'Furgoneta'):\n",
        "            yield self.env.timeout(TIEMPO_FURGONETA)\n",
        "        #Agregamos al diccionario\n",
        "        k=automotor[0]\n",
        "        if k in tiempo:\n",
        "            tiempo[k]=tiempo[k]+1\n",
        "        else:\n",
        "            tiempo[k]=1\n",
        "            \n",
        "        print('Lavado  {%d%%} de la suciedad del vehiculo => %s ' %(random.randint(30,90), vehiculo))\n",
        "        \n",
        "    def trasladar_vehiculo(self, vehiculo):\n",
        "        automotor=vehiculo.split('-')\n",
        "        if(automotor[0] == 'Bus'):\n",
        "            yield self.env.timeout(TRASLADO_BUS)\n",
        "        if(automotor[0] == 'Automovil'):\n",
        "            yield self.env.timeout(TRASLADO_AUTOMOVIL)\n",
        "        if(automotor[0] == 'Furgoneta'):\n",
        "            yield self.env.timeout(TRASLADO_FURGONETA)\n",
        "       \n",
        "    \n",
        "def llegada_vehiculo(env, nombre, lavanderia):\n",
        "    \n",
        "    print('Llega el vehiculo: %s a las %.2f.' % (nombre, env.now))\n",
        "    \n",
        "    with lavanderia.maquinas.request() as maquina:\n",
        "        # Proceso\n",
        "        yield maquina\n",
        "        print('Se traslada el vehiculo: %s a las %.2f.' % (nombre,env.now))\n",
        "        yield env.process(lavanderia.trasladar_vehiculo(nombre))\n",
        "        print('Entra el vehiculo a la lavanderia : %s a las %.2f.' % (nombre, env.now))\n",
        "        yield env.process(lavanderia.lavar_vehiculo(nombre))\n",
        "        print('Vehiculo [%s] lavado a las %.2f.' % (nombre, env.now))  \n",
        "        \n",
        "def ejecutar_simulacion(env, num_maquinas, tiempo_bus,tiempo_automovil,\n",
        "                        tiempo_furgoneta,traslado_bus,traslado_automovil,\n",
        "                        traslado_furgoneta, intervalo):\n",
        "    lavanderia=Lavanderia(env, num_maquinas, tiempo_bus,tiempo_automovil,\n",
        "                          tiempo_furgoneta,traslado_bus,traslado_automovil,\n",
        "                          traslado_furgoneta)\n",
        "    # llegadas de vehiculos \n",
        "    for i in range(2):\n",
        "        env.process(llegada_vehiculo(env, 'Bus-%d'%(i+1),lavanderia))\n",
        "        env.process(llegada_vehiculo(env, 'Automovil-%d'%(i+1),lavanderia))\n",
        "        env.process(llegada_vehiculo(env, 'Furgoneta-%d'%(i+1),lavanderia))\n",
        "        \n",
        "    while True:\n",
        "        yield env.timeout(random.randint(intervalo-3, intervalo+3))\n",
        "        i+=1\n",
        "        rnd = random.randint(1,100)\n",
        "        if rnd <= 20: \n",
        "            env.process(llegada_vehiculo(env,'Bus-%d'%(i+1),lavanderia))\n",
        "        elif rnd <= 50:\n",
        "            env.process(llegada_vehiculo(env,'Furgoneta-%d'%(i+1),lavanderia))\n",
        "        else:\n",
        "            env.process(llegada_vehiculo(env,'Automovil-%d'%(i+1),lavanderia))"
      ],
      "metadata": {
        "id": "12br5YhVDKPK"
      },
      "execution_count": null,
      "outputs": []
    },
    {
      "cell_type": "code",
      "source": [
        "print('Lavanderia UPS')\n",
        "\n",
        "env=simpy.Environment()\n",
        "env.process(ejecutar_simulacion(env, NUM_MAQUINAS, TIEMPO_BUS,TIEMPO_AUTOMOVIL,\n",
        "                                TIEMPO_FURGONETA,TRASLADO_BUS,TRASLADO_AUTOMOVIL,\n",
        "                                TRASLADO_FURGONETA, INTERVALO_LLEGADA))\n",
        "env.run(until = TIEMPO_SIMULACION)"
      ],
      "metadata": {
        "colab": {
          "base_uri": "https://localhost:8080/"
        },
        "id": "W7aikQ-pDbfY",
        "outputId": "b7dc43cd-c5f8-4a48-aa22-ee5f9e1b7ad0"
      },
      "execution_count": null,
      "outputs": [
        {
          "output_type": "stream",
          "name": "stdout",
          "text": [
            "Lavanderia UPS\n",
            "Llega el vehiculo: Bus-1 a las 0.00.\n",
            "Llega el vehiculo: Automovil-1 a las 0.00.\n",
            "Llega el vehiculo: Furgoneta-1 a las 0.00.\n",
            "Llega el vehiculo: Bus-2 a las 0.00.\n",
            "Llega el vehiculo: Automovil-2 a las 0.00.\n",
            "Llega el vehiculo: Furgoneta-2 a las 0.00.\n",
            "Se traslada el vehiculo: Bus-1 a las 0.00.\n",
            "Se traslada el vehiculo: Automovil-1 a las 0.00.\n",
            "Se traslada el vehiculo: Furgoneta-1 a las 0.00.\n",
            "Entra el vehiculo a la lavanderia : Automovil-1 a las 1.00.\n",
            "Entra el vehiculo a la lavanderia : Furgoneta-1 a las 2.00.\n",
            "Entra el vehiculo a la lavanderia : Bus-1 a las 4.00.\n",
            "Llega el vehiculo: Furgoneta-3 a las 8.00.\n",
            "Lavado  {59%} de la suciedad del vehiculo => Automovil-1 \n",
            "Vehiculo [Automovil-1] lavado a las 8.00.\n",
            "Se traslada el vehiculo: Bus-2 a las 8.00.\n",
            "Entra el vehiculo a la lavanderia : Bus-2 a las 12.00.\n",
            "Lavado  {78%} de la suciedad del vehiculo => Furgoneta-1 \n",
            "Vehiculo [Furgoneta-1] lavado a las 14.00.\n",
            "Se traslada el vehiculo: Automovil-2 a las 14.00.\n",
            "Entra el vehiculo a la lavanderia : Automovil-2 a las 15.00.\n",
            "Llega el vehiculo: Automovil-4 a las 21.00.\n",
            "Lavado  {32%} de la suciedad del vehiculo => Automovil-2 \n",
            "Vehiculo [Automovil-2] lavado a las 22.00.\n",
            "Se traslada el vehiculo: Furgoneta-2 a las 22.00.\n",
            "Lavado  {72%} de la suciedad del vehiculo => Bus-1 \n",
            "Vehiculo [Bus-1] lavado a las 24.00.\n",
            "Entra el vehiculo a la lavanderia : Furgoneta-2 a las 24.00.\n",
            "Se traslada el vehiculo: Furgoneta-3 a las 24.00.\n",
            "Entra el vehiculo a la lavanderia : Furgoneta-3 a las 26.00.\n",
            "Llega el vehiculo: Automovil-5 a las 28.00.\n",
            "Lavado  {53%} de la suciedad del vehiculo => Bus-2 \n",
            "Vehiculo [Bus-2] lavado a las 32.00.\n",
            "Se traslada el vehiculo: Automovil-4 a las 32.00.\n",
            "Entra el vehiculo a la lavanderia : Automovil-4 a las 33.00.\n",
            "Llega el vehiculo: Furgoneta-6 a las 35.00.\n",
            "Lavado  {82%} de la suciedad del vehiculo => Furgoneta-2 \n",
            "Vehiculo [Furgoneta-2] lavado a las 36.00.\n",
            "Se traslada el vehiculo: Automovil-5 a las 36.00.\n",
            "Entra el vehiculo a la lavanderia : Automovil-5 a las 37.00.\n",
            "Lavado  {59%} de la suciedad del vehiculo => Furgoneta-3 \n",
            "Vehiculo [Furgoneta-3] lavado a las 38.00.\n",
            "Se traslada el vehiculo: Furgoneta-6 a las 38.00.\n",
            "Lavado  {74%} de la suciedad del vehiculo => Automovil-4 \n",
            "Vehiculo [Automovil-4] lavado a las 40.00.\n",
            "Entra el vehiculo a la lavanderia : Furgoneta-6 a las 40.00.\n",
            "Llega el vehiculo: Furgoneta-7 a las 42.00.\n",
            "Se traslada el vehiculo: Furgoneta-7 a las 42.00.\n",
            "Lavado  {49%} de la suciedad del vehiculo => Automovil-5 \n",
            "Vehiculo [Automovil-5] lavado a las 44.00.\n",
            "Entra el vehiculo a la lavanderia : Furgoneta-7 a las 44.00.\n",
            "Lavado  {63%} de la suciedad del vehiculo => Furgoneta-6 \n",
            "Vehiculo [Furgoneta-6] lavado a las 52.00.\n",
            "Llega el vehiculo: Automovil-8 a las 55.00.\n",
            "Se traslada el vehiculo: Automovil-8 a las 55.00.\n",
            "Lavado  {79%} de la suciedad del vehiculo => Furgoneta-7 \n",
            "Vehiculo [Furgoneta-7] lavado a las 56.00.\n",
            "Entra el vehiculo a la lavanderia : Automovil-8 a las 56.00.\n",
            "Lavado  {30%} de la suciedad del vehiculo => Automovil-8 \n",
            "Vehiculo [Automovil-8] lavado a las 63.00.\n",
            "Llega el vehiculo: Furgoneta-9 a las 68.00.\n",
            "Se traslada el vehiculo: Furgoneta-9 a las 68.00.\n",
            "Entra el vehiculo a la lavanderia : Furgoneta-9 a las 70.00.\n",
            "Llega el vehiculo: Automovil-10 a las 75.00.\n",
            "Se traslada el vehiculo: Automovil-10 a las 75.00.\n",
            "Entra el vehiculo a la lavanderia : Automovil-10 a las 76.00.\n",
            "Lavado  {37%} de la suciedad del vehiculo => Furgoneta-9 \n",
            "Llega el vehiculo: Furgoneta-11 a las 82.00.\n",
            "Vehiculo [Furgoneta-9] lavado a las 82.00.\n",
            "Se traslada el vehiculo: Furgoneta-11 a las 82.00.\n",
            "Lavado  {65%} de la suciedad del vehiculo => Automovil-10 \n",
            "Vehiculo [Automovil-10] lavado a las 83.00.\n",
            "Entra el vehiculo a la lavanderia : Furgoneta-11 a las 84.00.\n",
            "Llega el vehiculo: Automovil-12 a las 89.00.\n",
            "Se traslada el vehiculo: Automovil-12 a las 89.00.\n",
            "Entra el vehiculo a la lavanderia : Automovil-12 a las 90.00.\n",
            "Lavado  {89%} de la suciedad del vehiculo => Furgoneta-11 \n",
            "Llega el vehiculo: Automovil-13 a las 96.00.\n",
            "Vehiculo [Furgoneta-11] lavado a las 96.00.\n",
            "Se traslada el vehiculo: Automovil-13 a las 96.00.\n",
            "Lavado  {56%} de la suciedad del vehiculo => Automovil-12 \n",
            "Vehiculo [Automovil-12] lavado a las 97.00.\n",
            "Entra el vehiculo a la lavanderia : Automovil-13 a las 97.00.\n",
            "Lavado  {87%} de la suciedad del vehiculo => Automovil-13 \n",
            "Vehiculo [Automovil-13] lavado a las 104.00.\n",
            "Llega el vehiculo: Furgoneta-14 a las 108.00.\n",
            "Se traslada el vehiculo: Furgoneta-14 a las 108.00.\n",
            "Entra el vehiculo a la lavanderia : Furgoneta-14 a las 110.00.\n"
          ]
        }
      ]
    },
    {
      "cell_type": "code",
      "source": [
        "# Generamos la grafica\n",
        "datos=sorted(tiempo.items())\n",
        "x, y =zip(*datos)\n",
        "pp.plot(x,y,linewidth=2,color='black')\n",
        "pp.scatter(x,y,color='red')\n",
        "pp.grid(True)\n",
        "pp.show()"
      ],
      "metadata": {
        "colab": {
          "base_uri": "https://localhost:8080/",
          "height": 265
        },
        "id": "_ZBe2DCPDeIo",
        "outputId": "29826d50-2b26-4a11-91f2-a505173c8dd5"
      },
      "execution_count": null,
      "outputs": [
        {
          "output_type": "display_data",
          "data": {
            "text/plain": [
              "<Figure size 432x288 with 1 Axes>"
            ],
            "image/png": "[encoded data removed]"
          },
          "metadata": {
            "needs_background": "light"
          }
        }
      ]
    }
  ]
}