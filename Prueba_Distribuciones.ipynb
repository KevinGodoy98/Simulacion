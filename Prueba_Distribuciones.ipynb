{
  "nbformat": 4,
  "nbformat_minor": 0,
  "metadata": {
    "colab": {
      "name": "Prueba_Distribuciones.ipynb",
      "provenance": []
    },
    "kernelspec": {
      "name": "python3",
      "display_name": "Python 3"
    },
    "language_info": {
      "name": "python"
    }
  },
  "cells": [
    {
      "cell_type": "code",
      "source": [
        "import numpy as np\n",
        "import matplotlib.pyplot as plt\n",
        "from scipy.stats import pareto\n",
        "import random"
      ],
      "metadata": {
        "id": "c4yDkITegR38"
      },
      "execution_count": null,
      "outputs": []
    },
    {
      "cell_type": "markdown",
      "source": [
        "#Problema\n",
        "Las rentas salariales anuales en cierto sector económico (X, en miles de dolares) es una magnitud aleatoria distribuida según un modelo de Pareto con salario mínimo\n",
        "a = 3 y B = 3.\n",
        "\n",
        "Se desea conocer el salario esperado en el sector y la proporción de asalariados\n",
        "que percibe más de $13 por año"
      ],
      "metadata": {
        "id": "jSfGnmwXy-XT"
      }
    },
    {
      "cell_type": "markdown",
      "source": [
        "#Simulación & Grafica Pareto"
      ],
      "metadata": {
        "id": "AVvcVeEzsJ-4"
      }
    },
    {
      "cell_type": "code",
      "source": [
        "x_m = 0.1 #valor mas pequeño que puede tomar la variable aleatoria\n",
        "alpha = [3] \n",
        "beta= 3\n",
        "salario = 13\n",
        "samples = np.linspace(start=0.1, stop=1, num=100)\n",
        "print('los 100 numeros aleatorios:')\n",
        "print(samples)\n",
        "x=str(alpha).replace('[','')\n",
        "y=str(x).replace(']','')"
      ],
      "metadata": {
        "colab": {
          "base_uri": "https://localhost:8080/"
        },
        "id": "tip1Im0wUzGX",
        "outputId": "9f0edac0-5106-4696-d1c8-77c1b3bef362"
      },
      "execution_count": null,
      "outputs": [
        {
          "output_type": "stream",
          "name": "stdout",
          "text": [
            "los 100 numeros aleatorios:\n",
            "[0.1        0.10909091 0.11818182 0.12727273 0.13636364 0.14545455\n",
            " 0.15454545 0.16363636 0.17272727 0.18181818 0.19090909 0.2\n",
            " 0.20909091 0.21818182 0.22727273 0.23636364 0.24545455 0.25454545\n",
            " 0.26363636 0.27272727 0.28181818 0.29090909 0.3        0.30909091\n",
            " 0.31818182 0.32727273 0.33636364 0.34545455 0.35454545 0.36363636\n",
            " 0.37272727 0.38181818 0.39090909 0.4        0.40909091 0.41818182\n",
            " 0.42727273 0.43636364 0.44545455 0.45454545 0.46363636 0.47272727\n",
            " 0.48181818 0.49090909 0.5        0.50909091 0.51818182 0.52727273\n",
            " 0.53636364 0.54545455 0.55454545 0.56363636 0.57272727 0.58181818\n",
            " 0.59090909 0.6        0.60909091 0.61818182 0.62727273 0.63636364\n",
            " 0.64545455 0.65454545 0.66363636 0.67272727 0.68181818 0.69090909\n",
            " 0.7        0.70909091 0.71818182 0.72727273 0.73636364 0.74545455\n",
            " 0.75454545 0.76363636 0.77272727 0.78181818 0.79090909 0.8\n",
            " 0.80909091 0.81818182 0.82727273 0.83636364 0.84545455 0.85454545\n",
            " 0.86363636 0.87272727 0.88181818 0.89090909 0.9        0.90909091\n",
            " 0.91818182 0.92727273 0.93636364 0.94545455 0.95454545 0.96363636\n",
            " 0.97272727 0.98181818 0.99090909 1.        ]\n"
          ]
        }
      ]
    },
    {
      "cell_type": "markdown",
      "source": [
        "Funcion de Densidad"
      ],
      "metadata": {
        "id": "PFWFqZNY4LOS"
      }
    },
    {
      "cell_type": "code",
      "source": [
        "for a in alpha:\n",
        "  output = np.array([pareto.pdf(x=samples, b=a, loc=0, scale=x_m)])\n",
        "  #print(output)\n",
        "  plt.plot(samples, output.T, label='alpha {0}' .format(a),color='red')\n",
        "plt.title('Funcion de Probabilidad de Densidad', fontsize=15)\n",
        "plt.grid(b=True, color='grey', alpha=0.3, linestyle='-.', linewidth=2)\n",
        "plt.rcParams[\"figure.figsize\"] = [5, 5]\n",
        "plt.legend(loc='best')\n",
        "plt.show()"
      ],
      "metadata": {
        "colab": {
          "base_uri": "https://localhost:8080/",
          "height": 338
        },
        "id": "ghI86qoPUv8a",
        "outputId": "4cac5186-a065-41b8-831d-fb4a476fecda"
      },
      "execution_count": null,
      "outputs": [
        {
          "output_type": "display_data",
          "data": {
            "text/plain": [
              "<Figure size 360x360 with 1 Axes>"
            ],
            "image/png": "[encoded data removed]"
          },
          "metadata": {
            "needs_background": "light"
          }
        }
      ]
    },
    {
      "cell_type": "markdown",
      "source": [
        "Funcion de probabilidad Acumulada "
      ],
      "metadata": {
        "id": "qv_AVsC14Qif"
      }
    },
    {
      "cell_type": "code",
      "source": [
        "for a in alpha:\n",
        "  output = np.array([pareto.cdf(x=samples, b=a, loc=0, scale=x_m)]) # esta libreria a traves de sus parametros calcula la formula ((alpha * x_m)**alpha/x**(alpha+1))\n",
        "  #print(output)\n",
        "  plt.plot(samples, output.T, label='alpha {0}' .format(a),color='red')\n",
        "plt.title('Función de Probabilidad Acumulada', fontsize=15)\n",
        "plt.grid(b=True, color='grey', alpha=0.3, linestyle='-.', linewidth=2)\n",
        "plt.rcParams[\"figure.figsize\"] = [5, 5]\n",
        "plt.legend(loc='best')\n",
        "plt.show()"
      ],
      "metadata": {
        "colab": {
          "base_uri": "https://localhost:8080/",
          "height": 338
        },
        "id": "U2E_svK1eVzw",
        "outputId": "01f86651-43b5-4249-c7b2-92a720e8de00"
      },
      "execution_count": null,
      "outputs": [
        {
          "output_type": "display_data",
          "data": {
            "text/plain": [
              "<Figure size 360x360 with 1 Axes>"
            ],
            "image/png": "[encoded data removed]"
          },
          "metadata": {
            "needs_background": "light"
          }
        }
      ]
    },
    {
      "cell_type": "markdown",
      "source": [
        "#Resultado del problema"
      ],
      "metadata": {
        "id": "3uKcEcV7RYhP"
      }
    },
    {
      "cell_type": "code",
      "source": [
        "salario_esperado = (int(y)*beta)/(beta-1)\n",
        "proporcion_asalariados = ((int(y)/salario)**beta)\n",
        "print('El valor del salario esperado es:',salario_esperado)\n",
        "print('la proporcion de asalariados con mas de $13 es:',proporcion_asalariados)"
      ],
      "metadata": {
        "colab": {
          "base_uri": "https://localhost:8080/"
        },
        "id": "Mk3W4Y_9P-Ko",
        "outputId": "d15a9193-514c-4891-d12c-efc717a2507c"
      },
      "execution_count": null,
      "outputs": [
        {
          "output_type": "stream",
          "name": "stdout",
          "text": [
            "El valor del salario esperado es: 4.5\n",
            "la proporcion de asalariados con mas de $13 es: 0.012289485662266729\n"
          ]
        }
      ]
    }
  ]
}